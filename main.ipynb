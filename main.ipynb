{
 "cells": [
  {
   "cell_type": "code",
   "execution_count": 1,
   "metadata": {},
   "outputs": [],
   "source": [
    "import sys\n",
    "sys.path.append('./src')\n",
    "\n",
    "import os\n",
    "\n",
    "import torch\n",
    "import pandas as pd\n",
    "import matplotlib.pyplot as plt\n",
    "\n",
    "from dataset import CausalMNIST\n",
    "from visualize import visualize_n_digits, boxplot_ead\n",
    "from utils import set_seed\n",
    "from train import training, compute_ead"
   ]
  },
  {
   "cell_type": "code",
   "execution_count": 3,
   "metadata": {},
   "outputs": [
    {
     "name": "stdout",
     "output_type": "stream",
     "text": [
      "Generating Causal MNIST\n",
      "Splitting Causal MNIST into train, val and test sets\n"
     ]
    },
    {
     "data": {
      "image/png": "[encoded data removed]",
      "text/plain": [
       "<Figure size 1300x540 with 6 Axes>"
      ]
     },
     "metadata": {},
     "output_type": "display_data"
    }
   ],
   "source": [
    "# Load the dataset\n",
    "subsampling = \"biased\"\n",
    "train = CausalMNIST(root='./data', \n",
    "                    env='train', \n",
    "                    force_generation=True, \n",
    "                    force_split=False, \n",
    "                    subsampling=subsampling)\n",
    "visualize_n_digits(train, 6, save=True)"
   ]
  },
  {
   "cell_type": "code",
   "execution_count": null,
   "metadata": {},
   "outputs": [],
   "source": [
    "# Exploratory data analysis\n",
    "labels = torch.tensor([label for _, label in train.data_label_tuples])\n",
    "B, P, D, Y = labels[:, 0], labels[:, 1], labels[:, 2], labels[:, 3]\n",
    "\n",
    "print(\"Training Set\")\n",
    "print(f'E[D|B=0] = {D[B==0].float().mean()}')\n",
    "print(f'E[D|B=1] = {D[B==1].float().mean()}')\n",
    "print(f'E[Y|B=0] = {Y[B==0].float().mean()}')\n",
    "print(f'E[Y|B=1] = {Y[B==1].float().mean()}')\n",
    "print(f'EAD = {Y[B==1].float().mean() - Y[B==0].float().mean()}')\n",
    "\n",
    "# plot the distribution of D given B (no subplot)\n",
    "fig, ax = plt.subplots()\n",
    "ax.hist(D[B==0], bins=range(11), alpha=0.5, label=r'$\\propto$p(D,B=0)')\n",
    "ax.hist(D[B==1], bins=range(11), alpha=0.5, label=r'$\\propto$p(D,B=1)')\n",
    "ax.set_xlabel('D')\n",
    "ax.set_ylabel('Frequency')\n",
    "ax.legend()\n",
    "plt.show()"
   ]
  },
  {
   "cell_type": "code",
   "execution_count": null,
   "metadata": {},
   "outputs": [],
   "source": [
    "# Experiment\n",
    "n_seeds = 100\n",
    "subsampling = \"biased\"\n",
    "verbose = False\n",
    "\n",
    "results = pd.DataFrame(columns=['dataset', 'seed', 'EAD', 'EAD_prob', 'EAD_binary'])\n",
    "for seed in range(1, n_seeds+1):\n",
    "    print(f\"Seed {seed}/{n_seeds}\")\n",
    "    set_seed(seed)\n",
    "    model = training(force_generation=True, \n",
    "                  subsampling=subsampling,\n",
    "                  verbose=verbose)\n",
    "    train_loader = torch.utils.data.DataLoader(\n",
    "      CausalMNIST(root='./data', \n",
    "                  env='train_full',\n",
    "                  transform=model.transformations,\n",
    "                  subsampling=subsampling),\n",
    "      batch_size=1000, shuffle=False)\n",
    "    all_loader = torch.utils.data.DataLoader(\n",
    "      CausalMNIST(root='./data', \n",
    "                  env='all',\n",
    "                  transform=model.transformations,\n",
    "                  subsampling=subsampling),\n",
    "      batch_size=1000, shuffle=False)\n",
    "    \n",
    "    ead, ead_prob, ead_binary = compute_ead(model, train_loader)\n",
    "    results.loc[2*seed] = {'dataset': 'train', 'seed': seed, 'EAD': ead.item(), 'EAD_prob': ead_prob.item(), 'EAD_binary': ead_binary.item()}\n",
    "    ead, ead_prob, ead_binary = compute_ead(model, all_loader)\n",
    "    results.loc[2*seed+1] = {'dataset': 'all', 'seed': seed, 'EAD': ead.item(), 'EAD_prob': ead_prob.item(), 'EAD_binary': ead_binary.item()}\n",
    "\n",
    "if not os.path.exists(f'results/CausalMNIST/{subsampling}'):\n",
    "    os.makedirs(f'results/CausalMNIST/{subsampling}')\n",
    "results.to_csv(f'results/CausalMNIST/{subsampling}/results.csv', index=False)\n",
    "boxplot_ead(results, subsampling, save=True)\n",
    "results"
   ]
  },
  {
   "cell_type": "code",
   "execution_count": null,
   "metadata": {},
   "outputs": [],
   "source": [
    "# load results\n",
    "subsampling = \"random\"\n",
    "results = pd.read_csv(f'results/CausalMNIST/{subsampling}/results.csv')\n",
    "boxplot_ead(results, subsampling, save=True)"
   ]
  }
 ],
 "metadata": {
  "kernelspec": {
   "display_name": "crl",
   "language": "python",
   "name": "python3"
  },
  "language_info": {
   "codemirror_mode": {
    "name": "ipython",
    "version": 3
   },
   "file_extension": ".py",
   "mimetype": "text/x-python",
   "name": "python",
   "nbconvert_exporter": "python",
   "pygments_lexer": "ipython3",
   "version": "3.10.13"
  }
 },
 "nbformat": 4,
 "nbformat_minor": 2
}
